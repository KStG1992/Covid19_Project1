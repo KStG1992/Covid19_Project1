{
 "cells": [
  {
   "cell_type": "code",
   "execution_count": 1,
   "metadata": {},
   "outputs": [],
   "source": [
    "# Importing Modules\n",
    "import pandas as pd"
   ]
  },
  {
   "cell_type": "code",
   "execution_count": 20,
   "metadata": {},
   "outputs": [
    {
     "data": {
      "text/plain": [
       "53"
      ]
     },
     "execution_count": 20,
     "metadata": {},
     "output_type": "execute_result"
    }
   ],
   "source": [
    "# Reading in CSV File\n",
    "\n",
    "filepath = '../Resources/reported_hospital_utilization_timeseries_20201206_2146 (1).csv'\n",
    "df = pd.read_csv(filepath)\n",
    "\n",
    "#Printing Unique Values in State\n",
    "df['state'].value_counts().count()"
   ]
  },
  {
   "cell_type": "code",
   "execution_count": 24,
   "metadata": {},
   "outputs": [
    {
     "data": {
      "text/plain": [
       "50"
      ]
     },
     "execution_count": 24,
     "metadata": {},
     "output_type": "execute_result"
    }
   ],
   "source": [
    "# Removing DC, VI, and PR to get 50 States\n",
    "df_clean_state = df.loc[(df['state']!= 'DC') & (df['state']!= 'VI') & (df['state']!= 'PR') ]\n",
    "\n",
    "#Displaying Unique Values in State\n",
    "df_clean_state['state'].value_counts().count()"
   ]
  },
  {
   "cell_type": "code",
   "execution_count": 48,
   "metadata": {},
   "outputs": [],
   "source": [
    "# This Dataset will Cover Jan 1,2020 to November 30, 2020\n",
    "\n",
    "#Removing December Dates\n",
    "df_clean_date = df_clean_state.loc[(df_clean_state['date']!= '2020-12-01')\n",
    "                                  & (df_clean_state['date']!= '2020-12-02')\n",
    "                                  & (df_clean_state['date']!= '2020-12-03')\n",
    "                                  & (df_clean_state['date']!= '2020-12-04')\n",
    "                                  & (df_clean_state['date']!= '2020-12-05')\n",
    "                                  & (df_clean_state['date']!= '2020-12-06')]"
   ]
  },
  {
   "cell_type": "code",
   "execution_count": 59,
   "metadata": {},
   "outputs": [
    {
     "data": {
      "text/html": [
       "<div>\n",
       "<style scoped>\n",
       "    .dataframe tbody tr th:only-of-type {\n",
       "        vertical-align: middle;\n",
       "    }\n",
       "\n",
       "    .dataframe tbody tr th {\n",
       "        vertical-align: top;\n",
       "    }\n",
       "\n",
       "    .dataframe thead th {\n",
       "        text-align: right;\n",
       "    }\n",
       "</style>\n",
       "<table border=\"1\" class=\"dataframe\">\n",
       "  <thead>\n",
       "    <tr style=\"text-align: right;\">\n",
       "      <th></th>\n",
       "      <th>State</th>\n",
       "      <th>Date</th>\n",
       "      <th>Total Available Beds</th>\n",
       "      <th>Beds Used</th>\n",
       "      <th>Beds Used by COVID</th>\n",
       "    </tr>\n",
       "  </thead>\n",
       "  <tbody>\n",
       "    <tr>\n",
       "      <th>367</th>\n",
       "      <td>WA</td>\n",
       "      <td>2020-11-30</td>\n",
       "      <td>13138.0</td>\n",
       "      <td>8649.0</td>\n",
       "      <td>1058.0</td>\n",
       "    </tr>\n",
       "    <tr>\n",
       "      <th>420</th>\n",
       "      <td>WA</td>\n",
       "      <td>2020-11-29</td>\n",
       "      <td>13832.0</td>\n",
       "      <td>9033.0</td>\n",
       "      <td>981.0</td>\n",
       "    </tr>\n",
       "    <tr>\n",
       "      <th>473</th>\n",
       "      <td>WA</td>\n",
       "      <td>2020-11-28</td>\n",
       "      <td>13755.0</td>\n",
       "      <td>8950.0</td>\n",
       "      <td>970.0</td>\n",
       "    </tr>\n",
       "    <tr>\n",
       "      <th>526</th>\n",
       "      <td>WA</td>\n",
       "      <td>2020-11-27</td>\n",
       "      <td>13835.0</td>\n",
       "      <td>8953.0</td>\n",
       "      <td>951.0</td>\n",
       "    </tr>\n",
       "    <tr>\n",
       "      <th>579</th>\n",
       "      <td>WA</td>\n",
       "      <td>2020-11-26</td>\n",
       "      <td>13874.0</td>\n",
       "      <td>9132.0</td>\n",
       "      <td>946.0</td>\n",
       "    </tr>\n",
       "    <tr>\n",
       "      <th>...</th>\n",
       "      <td>...</td>\n",
       "      <td>...</td>\n",
       "      <td>...</td>\n",
       "      <td>...</td>\n",
       "      <td>...</td>\n",
       "    </tr>\n",
       "    <tr>\n",
       "      <th>14495</th>\n",
       "      <td>WA</td>\n",
       "      <td>2020-08-28</td>\n",
       "      <td>10273.0</td>\n",
       "      <td>9145.0</td>\n",
       "      <td>444.0</td>\n",
       "    </tr>\n",
       "    <tr>\n",
       "      <th>14548</th>\n",
       "      <td>WA</td>\n",
       "      <td>2020-08-27</td>\n",
       "      <td>10069.0</td>\n",
       "      <td>9237.0</td>\n",
       "      <td>467.0</td>\n",
       "    </tr>\n",
       "    <tr>\n",
       "      <th>14601</th>\n",
       "      <td>WA</td>\n",
       "      <td>2020-08-26</td>\n",
       "      <td>9937.0</td>\n",
       "      <td>9186.0</td>\n",
       "      <td>475.0</td>\n",
       "    </tr>\n",
       "    <tr>\n",
       "      <th>14654</th>\n",
       "      <td>WA</td>\n",
       "      <td>2020-08-25</td>\n",
       "      <td>9928.0</td>\n",
       "      <td>8884.0</td>\n",
       "      <td>459.0</td>\n",
       "    </tr>\n",
       "    <tr>\n",
       "      <th>14707</th>\n",
       "      <td>WA</td>\n",
       "      <td>2020-08-24</td>\n",
       "      <td>9902.0</td>\n",
       "      <td>6038.0</td>\n",
       "      <td>299.0</td>\n",
       "    </tr>\n",
       "  </tbody>\n",
       "</table>\n",
       "<p>277 rows × 5 columns</p>\n",
       "</div>"
      ],
      "text/plain": [
       "      State        Date  Total Available Beds  Beds Used  Beds Used by COVID\n",
       "367      WA  2020-11-30               13138.0     8649.0              1058.0\n",
       "420      WA  2020-11-29               13832.0     9033.0               981.0\n",
       "473      WA  2020-11-28               13755.0     8950.0               970.0\n",
       "526      WA  2020-11-27               13835.0     8953.0               951.0\n",
       "579      WA  2020-11-26               13874.0     9132.0               946.0\n",
       "...     ...         ...                   ...        ...                 ...\n",
       "14495    WA  2020-08-28               10273.0     9145.0               444.0\n",
       "14548    WA  2020-08-27               10069.0     9237.0               467.0\n",
       "14601    WA  2020-08-26                9937.0     9186.0               475.0\n",
       "14654    WA  2020-08-25                9928.0     8884.0               459.0\n",
       "14707    WA  2020-08-24                9902.0     6038.0               299.0\n",
       "\n",
       "[277 rows x 5 columns]"
      ]
     },
     "execution_count": 59,
     "metadata": {},
     "output_type": "execute_result"
    }
   ],
   "source": [
    "df_clean_col = df_clean_date[['state', 'date', 'inpatient_beds', 'inpatient_beds_used', 'inpatient_beds_used_covid']]\n",
    "df_clean_col = df_clean_col.rename(columns={'state':'State', 'date':'Date',\n",
    "                                           'inpatient_beds':'Total Available Beds',\n",
    "                                           'inpatient_beds_used':'Beds Used',\n",
    "                                           'inpatient_beds_used_covid': 'Beds Used by COVID'})"
   ]
  },
  {
   "cell_type": "code",
   "execution_count": null,
   "metadata": {},
   "outputs": [],
   "source": []
  }
 ],
 "metadata": {
  "kernelspec": {
   "display_name": "MyPythonEnv",
   "language": "python",
   "name": "mypythonenv"
  },
  "language_info": {
   "codemirror_mode": {
    "name": "ipython",
    "version": 3
   },
   "file_extension": ".py",
   "mimetype": "text/x-python",
   "name": "python",
   "nbconvert_exporter": "python",
   "pygments_lexer": "ipython3",
   "version": "3.8.3"
  }
 },
 "nbformat": 4,
 "nbformat_minor": 4
}
