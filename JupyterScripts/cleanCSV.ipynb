{
 "cells": [
  {
   "cell_type": "code",
   "execution_count": 6,
   "metadata": {},
   "outputs": [],
   "source": [
    "# Importing Modules\n",
    "import pandas as pd"
   ]
  },
  {
   "cell_type": "code",
   "execution_count": 7,
   "metadata": {},
   "outputs": [
    {
     "data": {
      "text/plain": [
       "53"
      ]
     },
     "execution_count": 7,
     "metadata": {},
     "output_type": "execute_result"
    }
   ],
   "source": [
    "# Reading in CSV File\n",
    "\n",
    "filepath = '../Resources/reported_hospital_utilization_timeseries_20201206_2146 (1).csv'\n",
    "df = pd.read_csv(filepath)\n",
    "\n",
    "#Printing Unique Values in State\n",
    "df['state'].value_counts().count()"
   ]
  },
  {
   "cell_type": "code",
   "execution_count": 8,
   "metadata": {},
   "outputs": [
    {
     "data": {
      "text/plain": [
       "50"
      ]
     },
     "execution_count": 8,
     "metadata": {},
     "output_type": "execute_result"
    }
   ],
   "source": [
    "# Removing DC, VI, and PR to get 50 States\n",
    "df_clean_state = df.loc[(df['state']!= 'DC') & (df['state']!= 'VI') & (df['state']!= 'PR') ]\n",
    "\n",
    "#Displaying Unique Values in State\n",
    "df_clean_state['state'].value_counts().count()"
   ]
  },
  {
   "cell_type": "code",
   "execution_count": 9,
   "metadata": {},
   "outputs": [],
   "source": [
    "# This Dataset will Cover Jan 1,2020 to November 30, 2020\n",
    "\n",
    "#Removing December Dates\n",
    "df_clean_date = df_clean_state.loc[(df_clean_state['date']!= '2020-12-01')\n",
    "                                  & (df_clean_state['date']!= '2020-12-02')\n",
    "                                  & (df_clean_state['date']!= '2020-12-03')\n",
    "                                  & (df_clean_state['date']!= '2020-12-04')\n",
    "                                  & (df_clean_state['date']!= '2020-12-05')\n",
    "                                  & (df_clean_state['date']!= '2020-12-06')]"
   ]
  },
  {
   "cell_type": "code",
   "execution_count": 10,
   "metadata": {},
   "outputs": [],
   "source": [
    "df_clean_col = df_clean_date[['state', 'date', 'inpatient_beds', 'inpatient_beds_used', 'inpatient_beds_used_covid']]\n",
    "df_clean_col = df_clean_col.rename(columns={'state':'State', 'date':'Date',\n",
    "                                           'inpatient_beds':'Total Available Beds',\n",
    "                                           'inpatient_beds_used':'Beds Used',\n",
    "                                           'inpatient_beds_used_covid': 'Beds Used by COVID'})"
   ]
  },
  {
   "cell_type": "code",
   "execution_count": null,
   "metadata": {},
   "outputs": [],
   "source": []
  }
 ],
 "metadata": {
  "kernelspec": {
   "display_name": "PythonData",
   "language": "python",
   "name": "pythondata"
  },
  "language_info": {
   "codemirror_mode": {
    "name": "ipython",
    "version": 3
   },
   "file_extension": ".py",
   "mimetype": "text/x-python",
   "name": "python",
   "nbconvert_exporter": "python",
   "pygments_lexer": "ipython3",
   "version": "3.6.10"
  }
 },
 "nbformat": 4,
 "nbformat_minor": 4
}
