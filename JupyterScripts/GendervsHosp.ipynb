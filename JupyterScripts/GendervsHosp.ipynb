{
 "cells": [
  {
   "cell_type": "code",
   "execution_count": 1,
   "metadata": {},
   "outputs": [],
   "source": [
    "# Importing Dependencies\n",
    "import pandas as pd\n",
    "from matplotlib import pyplot as plt\n",
    "import scipy.stats as st"
   ]
  },
  {
   "cell_type": "code",
   "execution_count": 2,
   "metadata": {},
   "outputs": [
    {
     "data": {
      "text/html": [
       "<div>\n",
       "<style scoped>\n",
       "    .dataframe tbody tr th:only-of-type {\n",
       "        vertical-align: middle;\n",
       "    }\n",
       "\n",
       "    .dataframe tbody tr th {\n",
       "        vertical-align: top;\n",
       "    }\n",
       "\n",
       "    .dataframe thead th {\n",
       "        text-align: right;\n",
       "    }\n",
       "</style>\n",
       "<table border=\"1\" class=\"dataframe\">\n",
       "  <thead>\n",
       "    <tr style=\"text-align: right;\">\n",
       "      <th></th>\n",
       "      <th>CDC Report Date</th>\n",
       "      <th>Covid Status</th>\n",
       "      <th>Gender</th>\n",
       "      <th>Age Group</th>\n",
       "      <th>Race/Ethnicity</th>\n",
       "      <th>Hospitalized</th>\n",
       "      <th>Pre-Existing Condition</th>\n",
       "    </tr>\n",
       "  </thead>\n",
       "  <tbody>\n",
       "    <tr>\n",
       "      <th>0</th>\n",
       "      <td>2020/11/10</td>\n",
       "      <td>Laboratory-confirmed case</td>\n",
       "      <td>Male</td>\n",
       "      <td>10 - 19 Years</td>\n",
       "      <td>Black, Non-Hispanic</td>\n",
       "      <td>No</td>\n",
       "      <td>No</td>\n",
       "    </tr>\n",
       "    <tr>\n",
       "      <th>1</th>\n",
       "      <td>2020/11/14</td>\n",
       "      <td>Laboratory-confirmed case</td>\n",
       "      <td>Male</td>\n",
       "      <td>10 - 19 Years</td>\n",
       "      <td>Black, Non-Hispanic</td>\n",
       "      <td>No</td>\n",
       "      <td>No</td>\n",
       "    </tr>\n",
       "    <tr>\n",
       "      <th>2</th>\n",
       "      <td>2020/11/19</td>\n",
       "      <td>Laboratory-confirmed case</td>\n",
       "      <td>Male</td>\n",
       "      <td>10 - 19 Years</td>\n",
       "      <td>Black, Non-Hispanic</td>\n",
       "      <td>No</td>\n",
       "      <td>No</td>\n",
       "    </tr>\n",
       "    <tr>\n",
       "      <th>3</th>\n",
       "      <td>2020/11/13</td>\n",
       "      <td>Laboratory-confirmed case</td>\n",
       "      <td>Male</td>\n",
       "      <td>10 - 19 Years</td>\n",
       "      <td>Black, Non-Hispanic</td>\n",
       "      <td>No</td>\n",
       "      <td>Yes</td>\n",
       "    </tr>\n",
       "    <tr>\n",
       "      <th>4</th>\n",
       "      <td>2020/11/09</td>\n",
       "      <td>Laboratory-confirmed case</td>\n",
       "      <td>Male</td>\n",
       "      <td>10 - 19 Years</td>\n",
       "      <td>Black, Non-Hispanic</td>\n",
       "      <td>No</td>\n",
       "      <td>No</td>\n",
       "    </tr>\n",
       "  </tbody>\n",
       "</table>\n",
       "</div>"
      ],
      "text/plain": [
       "  CDC Report Date               Covid Status Gender      Age Group  \\\n",
       "0      2020/11/10  Laboratory-confirmed case   Male  10 - 19 Years   \n",
       "1      2020/11/14  Laboratory-confirmed case   Male  10 - 19 Years   \n",
       "2      2020/11/19  Laboratory-confirmed case   Male  10 - 19 Years   \n",
       "3      2020/11/13  Laboratory-confirmed case   Male  10 - 19 Years   \n",
       "4      2020/11/09  Laboratory-confirmed case   Male  10 - 19 Years   \n",
       "\n",
       "        Race/Ethnicity Hospitalized Pre-Existing Condition  \n",
       "0  Black, Non-Hispanic           No                     No  \n",
       "1  Black, Non-Hispanic           No                     No  \n",
       "2  Black, Non-Hispanic           No                     No  \n",
       "3  Black, Non-Hispanic           No                    Yes  \n",
       "4  Black, Non-Hispanic           No                     No  "
      ]
     },
     "execution_count": 2,
     "metadata": {},
     "output_type": "execute_result"
    }
   ],
   "source": [
    "# Creating Filepath\n",
    "filepath = '../Resources/cleanedCaseSurveillance.csv'\n",
    "\n",
    "# Reading CSV File\n",
    "df = pd.read_csv(filepath)\n",
    "\n",
    "# Printing DataFrame\n",
    "df.head()"
   ]
  },
  {
   "cell_type": "code",
   "execution_count": 3,
   "metadata": {},
   "outputs": [
    {
     "data": {
      "text/html": [
       "<div>\n",
       "<style scoped>\n",
       "    .dataframe tbody tr th:only-of-type {\n",
       "        vertical-align: middle;\n",
       "    }\n",
       "\n",
       "    .dataframe tbody tr th {\n",
       "        vertical-align: top;\n",
       "    }\n",
       "\n",
       "    .dataframe thead th {\n",
       "        text-align: right;\n",
       "    }\n",
       "</style>\n",
       "<table border=\"1\" class=\"dataframe\">\n",
       "  <thead>\n",
       "    <tr style=\"text-align: right;\">\n",
       "      <th></th>\n",
       "      <th>Covid Status</th>\n",
       "      <th>Gender</th>\n",
       "      <th>Hospitalized</th>\n",
       "    </tr>\n",
       "  </thead>\n",
       "  <tbody>\n",
       "    <tr>\n",
       "      <th>0</th>\n",
       "      <td>Laboratory-confirmed case</td>\n",
       "      <td>Male</td>\n",
       "      <td>No</td>\n",
       "    </tr>\n",
       "    <tr>\n",
       "      <th>1</th>\n",
       "      <td>Laboratory-confirmed case</td>\n",
       "      <td>Male</td>\n",
       "      <td>No</td>\n",
       "    </tr>\n",
       "    <tr>\n",
       "      <th>2</th>\n",
       "      <td>Laboratory-confirmed case</td>\n",
       "      <td>Male</td>\n",
       "      <td>No</td>\n",
       "    </tr>\n",
       "    <tr>\n",
       "      <th>3</th>\n",
       "      <td>Laboratory-confirmed case</td>\n",
       "      <td>Male</td>\n",
       "      <td>No</td>\n",
       "    </tr>\n",
       "    <tr>\n",
       "      <th>4</th>\n",
       "      <td>Laboratory-confirmed case</td>\n",
       "      <td>Male</td>\n",
       "      <td>No</td>\n",
       "    </tr>\n",
       "    <tr>\n",
       "      <th>5</th>\n",
       "      <td>Laboratory-confirmed case</td>\n",
       "      <td>Male</td>\n",
       "      <td>No</td>\n",
       "    </tr>\n",
       "    <tr>\n",
       "      <th>6</th>\n",
       "      <td>Laboratory-confirmed case</td>\n",
       "      <td>Male</td>\n",
       "      <td>No</td>\n",
       "    </tr>\n",
       "    <tr>\n",
       "      <th>7</th>\n",
       "      <td>Laboratory-confirmed case</td>\n",
       "      <td>Male</td>\n",
       "      <td>No</td>\n",
       "    </tr>\n",
       "    <tr>\n",
       "      <th>8</th>\n",
       "      <td>Laboratory-confirmed case</td>\n",
       "      <td>Male</td>\n",
       "      <td>No</td>\n",
       "    </tr>\n",
       "    <tr>\n",
       "      <th>9</th>\n",
       "      <td>Laboratory-confirmed case</td>\n",
       "      <td>Male</td>\n",
       "      <td>No</td>\n",
       "    </tr>\n",
       "  </tbody>\n",
       "</table>\n",
       "</div>"
      ],
      "text/plain": [
       "                Covid Status Gender Hospitalized\n",
       "0  Laboratory-confirmed case   Male           No\n",
       "1  Laboratory-confirmed case   Male           No\n",
       "2  Laboratory-confirmed case   Male           No\n",
       "3  Laboratory-confirmed case   Male           No\n",
       "4  Laboratory-confirmed case   Male           No\n",
       "5  Laboratory-confirmed case   Male           No\n",
       "6  Laboratory-confirmed case   Male           No\n",
       "7  Laboratory-confirmed case   Male           No\n",
       "8  Laboratory-confirmed case   Male           No\n",
       "9  Laboratory-confirmed case   Male           No"
      ]
     },
     "execution_count": 3,
     "metadata": {},
     "output_type": "execute_result"
    }
   ],
   "source": [
    "# Printing DateFrame with Columns Needed\n",
    "df = df[['Covid Status', 'Gender', \"Hospitalized\"]]\n",
    "\n",
    "df.head(10)"
   ]
  },
  {
   "cell_type": "code",
   "execution_count": 4,
   "metadata": {},
   "outputs": [
    {
     "name": "stdout",
     "output_type": "stream",
     "text": [
      "Female    527037\n",
      "Male      464850\n",
      "Name: Gender, dtype: int64\n",
      "No     817981\n",
      "Yes    173915\n",
      "Name: Hospitalized, dtype: int64\n"
     ]
    }
   ],
   "source": [
    "# Printing Unique Values\n",
    "print(df['Gender'].value_counts())\n",
    "print(df['Hospitalized'].value_counts())"
   ]
  },
  {
   "cell_type": "code",
   "execution_count": 5,
   "metadata": {},
   "outputs": [],
   "source": [
    "# Creating DataFrame of Hospitalized Males and Females\n",
    "hosp_male_df = df.loc[(df['Gender'] == 'Male') & (df['Hospitalized'] == 'Yes')]\n",
    "hosp_female_df = df.loc[(df['Gender'] == 'Female') & (df['Hospitalized'] == 'Yes')]\n",
    "\n",
    "hosp_male_size = len(df.loc[(df['Gender'] == 'Male') & (df['Hospitalized'] == 'Yes')])\n",
    "hosp_female_size = len(df.loc[(df['Gender'] == 'Female') & (df['Hospitalized'] == 'Yes')])\n",
    "\n",
    "no_hosp_male_size = len(df.loc[(df['Gender'] == 'Male') & (df['Hospitalized'] == 'No')])\n",
    "no_hosp_female_size = len(df.loc[(df['Gender'] == 'Female') & (df['Hospitalized'] == 'No')])"
   ]
  },
  {
   "cell_type": "code",
   "execution_count": 23,
   "metadata": {},
   "outputs": [
    {
     "data": {
      "text/html": [
       "<div>\n",
       "<style scoped>\n",
       "    .dataframe tbody tr th:only-of-type {\n",
       "        vertical-align: middle;\n",
       "    }\n",
       "\n",
       "    .dataframe tbody tr th {\n",
       "        vertical-align: top;\n",
       "    }\n",
       "\n",
       "    .dataframe thead th {\n",
       "        text-align: right;\n",
       "    }\n",
       "</style>\n",
       "<table border=\"1\" class=\"dataframe\">\n",
       "  <thead>\n",
       "    <tr style=\"text-align: right;\">\n",
       "      <th></th>\n",
       "      <th>Hospitalized</th>\n",
       "      <th>Not Hospitalized</th>\n",
       "    </tr>\n",
       "  </thead>\n",
       "  <tbody>\n",
       "    <tr>\n",
       "      <th>Female</th>\n",
       "      <td>82089</td>\n",
       "      <td>444948</td>\n",
       "    </tr>\n",
       "    <tr>\n",
       "      <th>Male</th>\n",
       "      <td>91825</td>\n",
       "      <td>373025</td>\n",
       "    </tr>\n",
       "  </tbody>\n",
       "</table>\n",
       "</div>"
      ],
      "text/plain": [
       "        Hospitalized  Not Hospitalized\n",
       "Female         82089            444948\n",
       "Male           91825            373025"
      ]
     },
     "execution_count": 23,
     "metadata": {},
     "output_type": "execute_result"
    },
    {
     "data": {
      "image/png": "[encoded data removed]",
      "text/plain": [
       "<Figure size 432x288 with 1 Axes>"
      ]
     },
     "metadata": {
      "needs_background": "light"
     },
     "output_type": "display_data"
    }
   ],
   "source": [
    "# Creating DataFrame Indexed by Gender of Confirmed Cases and Hospitalized/Non-Hospitalized\n",
    "index = ['Female','Male']\n",
    "confirmed_df = pd.DataFrame({'Hospitalized': [hosp_female_size, hosp_male_size], 'Not Hospitalized': [no_hosp_female_size, no_hosp_male_size]}, index=index)\n",
    "\n",
    "#Plotting Hospitalized and Not Hospitalized Males and Females\n",
    "confirmed_df.plot.bar(rot=0, stacked=True)\n",
    "plt.legend(loc='center left', bbox_to_anchor=(1.0, 0.5))\n",
    "plt.ylabel('Number of Confirmed Cases')\n",
    "plt.title('Labratory Confirmed Cases Across the USA')\n",
    "\n",
    "#Plotting the Max Count\n",
    "plt.annotate(hosp_female_size, xy=(0,30000), xytext=(-0.15,30000)) #Plotting the Female Count of Hospitalized\n",
    "plt.annotate(no_hosp_female_size, (0,300000), xytext=(-0.15,300000)) #Plotting the Female Count of Non-Hospitalized\n",
    "\n",
    "plt.annotate(hosp_male_size, xy=(1,30000), xytext=(0.85,30000)) #Plotting the Male Count of Hospitalized\n",
    "plt.annotate(no_hosp_male_size, (1,300000), xytext=(0.85,300000)) #Plotting the Male Count of Non-Hospitalized\n",
    "\n",
    "plt.annotate(hosp_female_size+no_hosp_female_size,xy=(0,530000), xytext=(-0.15,530000)) #Plotting the Total Female Count\n",
    "plt.annotate(hosp_male_size+no_hosp_male_size,xy=(1,470000), xytext=(0.85,470000)) #Plotting the Total Male Count\n",
    "\n",
    "#Saving DataFrame as PNG\n",
    "plt.tight_layout()\n",
    "plt.savefig('../Images/BothGendersHosp_NoHosp.png')\n",
    "\n",
    "#Printing DataFrame\n",
    "confirmed_df"
   ]
  },
  {
   "cell_type": "code",
   "execution_count": 26,
   "metadata": {},
   "outputs": [
    {
     "data": {
      "text/html": [
       "<div>\n",
       "<style scoped>\n",
       "    .dataframe tbody tr th:only-of-type {\n",
       "        vertical-align: middle;\n",
       "    }\n",
       "\n",
       "    .dataframe tbody tr th {\n",
       "        vertical-align: top;\n",
       "    }\n",
       "\n",
       "    .dataframe thead th {\n",
       "        text-align: right;\n",
       "    }\n",
       "</style>\n",
       "<table border=\"1\" class=\"dataframe\">\n",
       "  <thead>\n",
       "    <tr style=\"text-align: right;\">\n",
       "      <th></th>\n",
       "      <th>Gender</th>\n",
       "      <th>Number Hospitalized</th>\n",
       "    </tr>\n",
       "  </thead>\n",
       "  <tbody>\n",
       "    <tr>\n",
       "      <th>0</th>\n",
       "      <td>Female</td>\n",
       "      <td>82089</td>\n",
       "    </tr>\n",
       "    <tr>\n",
       "      <th>1</th>\n",
       "      <td>Male</td>\n",
       "      <td>91825</td>\n",
       "    </tr>\n",
       "  </tbody>\n",
       "</table>\n",
       "</div>"
      ],
      "text/plain": [
       "   Gender  Number Hospitalized\n",
       "0  Female                82089\n",
       "1    Male                91825"
      ]
     },
     "execution_count": 26,
     "metadata": {},
     "output_type": "execute_result"
    },
    {
     "data": {
      "image/png": "[encoded data removed]",
      "text/plain": [
       "<Figure size 432x288 with 1 Axes>"
      ]
     },
     "metadata": {
      "needs_background": "light"
     },
     "output_type": "display_data"
    }
   ],
   "source": [
    "# Creating DataFrame by Gender of Confirmed Cases and Hospitalized\n",
    "hosp_df = pd.DataFrame({'Gender': ['Female','Male'], 'Number Hospitalized': [hosp_female_size,hosp_male_size]})\n",
    "\n",
    "#Plotting Hospitalized Males and Females\n",
    "hosp_df.plot.bar(x='Gender', y='Number Hospitalized', rot=0, legend=False)\n",
    "plt.ylabel('Number of Hospitalizations')\n",
    "plt.title('Hospitalized Patients with COVID-19')\n",
    "\n",
    "#Plotting the Max Count\n",
    "plt.annotate(hosp_female_size, (0,82900), xytext=(-0.10,82900))\n",
    "plt.annotate(hosp_male_size, (1,92000), xytext=(0.90,92000))\n",
    "\n",
    "#Saving DataFrame as PNG\n",
    "plt.savefig('../Images/BothGendersHosp.png')\n",
    "\n",
    "#Printing DataFrame\n",
    "hosp_df"
   ]
  },
  {
   "cell_type": "code",
   "execution_count": null,
   "metadata": {},
   "outputs": [],
   "source": []
  }
 ],
 "metadata": {
  "kernelspec": {
   "display_name": "MyPythonEnv",
   "language": "python",
   "name": "mypythonenv"
  },
  "language_info": {
   "codemirror_mode": {
    "name": "ipython",
    "version": 3
   },
   "file_extension": ".py",
   "mimetype": "text/x-python",
   "name": "python",
   "nbconvert_exporter": "python",
   "pygments_lexer": "ipython3",
   "version": "3.8.3"
  }
 },
 "nbformat": 4,
 "nbformat_minor": 4
}
