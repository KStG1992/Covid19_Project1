{
 "cells": [
  {
   "cell_type": "code",
   "execution_count": 1,
   "metadata": {},
   "outputs": [],
   "source": [
    "import pandas as pd\n",
    "from matplotlib import pyplot as plt\n",
    "import scipy.stats as st\n",
    "import datetime as dt"
   ]
  },
  {
   "cell_type": "code",
   "execution_count": 2,
   "metadata": {},
   "outputs": [
    {
     "data": {
      "text/html": [
       "<div>\n",
       "<style scoped>\n",
       "    .dataframe tbody tr th:only-of-type {\n",
       "        vertical-align: middle;\n",
       "    }\n",
       "\n",
       "    .dataframe tbody tr th {\n",
       "        vertical-align: top;\n",
       "    }\n",
       "\n",
       "    .dataframe thead th {\n",
       "        text-align: right;\n",
       "    }\n",
       "</style>\n",
       "<table border=\"1\" class=\"dataframe\">\n",
       "  <thead>\n",
       "    <tr style=\"text-align: right;\">\n",
       "      <th></th>\n",
       "      <th>Unnamed: 0</th>\n",
       "      <th>Covid Status</th>\n",
       "      <th>Gender</th>\n",
       "      <th>Hospitalized</th>\n",
       "      <th>Age Group</th>\n",
       "      <th>Pre-Existing Condition</th>\n",
       "    </tr>\n",
       "  </thead>\n",
       "  <tbody>\n",
       "    <tr>\n",
       "      <th>0</th>\n",
       "      <td>0</td>\n",
       "      <td>Laboratory-confirmed case</td>\n",
       "      <td>Male</td>\n",
       "      <td>No</td>\n",
       "      <td>10 - 19 Years</td>\n",
       "      <td>No</td>\n",
       "    </tr>\n",
       "    <tr>\n",
       "      <th>1</th>\n",
       "      <td>1</td>\n",
       "      <td>Laboratory-confirmed case</td>\n",
       "      <td>Male</td>\n",
       "      <td>No</td>\n",
       "      <td>10 - 19 Years</td>\n",
       "      <td>No</td>\n",
       "    </tr>\n",
       "    <tr>\n",
       "      <th>2</th>\n",
       "      <td>2</td>\n",
       "      <td>Laboratory-confirmed case</td>\n",
       "      <td>Male</td>\n",
       "      <td>No</td>\n",
       "      <td>10 - 19 Years</td>\n",
       "      <td>No</td>\n",
       "    </tr>\n",
       "    <tr>\n",
       "      <th>3</th>\n",
       "      <td>3</td>\n",
       "      <td>Laboratory-confirmed case</td>\n",
       "      <td>Male</td>\n",
       "      <td>No</td>\n",
       "      <td>10 - 19 Years</td>\n",
       "      <td>Yes</td>\n",
       "    </tr>\n",
       "    <tr>\n",
       "      <th>4</th>\n",
       "      <td>4</td>\n",
       "      <td>Laboratory-confirmed case</td>\n",
       "      <td>Male</td>\n",
       "      <td>No</td>\n",
       "      <td>10 - 19 Years</td>\n",
       "      <td>No</td>\n",
       "    </tr>\n",
       "  </tbody>\n",
       "</table>\n",
       "</div>"
      ],
      "text/plain": [
       "   Unnamed: 0               Covid Status Gender Hospitalized      Age Group  \\\n",
       "0           0  Laboratory-confirmed case   Male           No  10 - 19 Years   \n",
       "1           1  Laboratory-confirmed case   Male           No  10 - 19 Years   \n",
       "2           2  Laboratory-confirmed case   Male           No  10 - 19 Years   \n",
       "3           3  Laboratory-confirmed case   Male           No  10 - 19 Years   \n",
       "4           4  Laboratory-confirmed case   Male           No  10 - 19 Years   \n",
       "\n",
       "  Pre-Existing Condition  \n",
       "0                     No  \n",
       "1                     No  \n",
       "2                     No  \n",
       "3                    Yes  \n",
       "4                     No  "
      ]
     },
     "execution_count": 2,
     "metadata": {},
     "output_type": "execute_result"
    }
   ],
   "source": [
    "# file path\n",
    "filepath = '../Resources/preVsHosp.csv'\n",
    "\n",
    "# Reading CSV File\n",
    "org_data_df = pd.read_csv(filepath)\n",
    "org_data_df.head()"
   ]
  },
  {
   "cell_type": "code",
   "execution_count": 3,
   "metadata": {},
   "outputs": [
    {
     "data": {
      "text/html": [
       "<div>\n",
       "<style scoped>\n",
       "    .dataframe tbody tr th:only-of-type {\n",
       "        vertical-align: middle;\n",
       "    }\n",
       "\n",
       "    .dataframe tbody tr th {\n",
       "        vertical-align: top;\n",
       "    }\n",
       "\n",
       "    .dataframe thead th {\n",
       "        text-align: right;\n",
       "    }\n",
       "</style>\n",
       "<table border=\"1\" class=\"dataframe\">\n",
       "  <thead>\n",
       "    <tr style=\"text-align: right;\">\n",
       "      <th></th>\n",
       "      <th>Covid Status</th>\n",
       "      <th>Gender</th>\n",
       "      <th>Hospitalized</th>\n",
       "      <th>Age Group</th>\n",
       "      <th>Pre-Existing Condition</th>\n",
       "    </tr>\n",
       "  </thead>\n",
       "  <tbody>\n",
       "    <tr>\n",
       "      <th>0</th>\n",
       "      <td>Laboratory-confirmed case</td>\n",
       "      <td>Male</td>\n",
       "      <td>No</td>\n",
       "      <td>10 - 19 Years</td>\n",
       "      <td>No</td>\n",
       "    </tr>\n",
       "    <tr>\n",
       "      <th>1</th>\n",
       "      <td>Laboratory-confirmed case</td>\n",
       "      <td>Male</td>\n",
       "      <td>No</td>\n",
       "      <td>10 - 19 Years</td>\n",
       "      <td>No</td>\n",
       "    </tr>\n",
       "    <tr>\n",
       "      <th>2</th>\n",
       "      <td>Laboratory-confirmed case</td>\n",
       "      <td>Male</td>\n",
       "      <td>No</td>\n",
       "      <td>10 - 19 Years</td>\n",
       "      <td>No</td>\n",
       "    </tr>\n",
       "    <tr>\n",
       "      <th>3</th>\n",
       "      <td>Laboratory-confirmed case</td>\n",
       "      <td>Male</td>\n",
       "      <td>No</td>\n",
       "      <td>10 - 19 Years</td>\n",
       "      <td>Yes</td>\n",
       "    </tr>\n",
       "    <tr>\n",
       "      <th>4</th>\n",
       "      <td>Laboratory-confirmed case</td>\n",
       "      <td>Male</td>\n",
       "      <td>No</td>\n",
       "      <td>10 - 19 Years</td>\n",
       "      <td>No</td>\n",
       "    </tr>\n",
       "    <tr>\n",
       "      <th>...</th>\n",
       "      <td>...</td>\n",
       "      <td>...</td>\n",
       "      <td>...</td>\n",
       "      <td>...</td>\n",
       "      <td>...</td>\n",
       "    </tr>\n",
       "    <tr>\n",
       "      <th>991891</th>\n",
       "      <td>Laboratory-confirmed case</td>\n",
       "      <td>Female</td>\n",
       "      <td>Yes</td>\n",
       "      <td>30 - 39 Years</td>\n",
       "      <td>Yes</td>\n",
       "    </tr>\n",
       "    <tr>\n",
       "      <th>991892</th>\n",
       "      <td>Laboratory-confirmed case</td>\n",
       "      <td>Female</td>\n",
       "      <td>No</td>\n",
       "      <td>30 - 39 Years</td>\n",
       "      <td>Yes</td>\n",
       "    </tr>\n",
       "    <tr>\n",
       "      <th>991893</th>\n",
       "      <td>Laboratory-confirmed case</td>\n",
       "      <td>Female</td>\n",
       "      <td>No</td>\n",
       "      <td>30 - 39 Years</td>\n",
       "      <td>Yes</td>\n",
       "    </tr>\n",
       "    <tr>\n",
       "      <th>991894</th>\n",
       "      <td>Laboratory-confirmed case</td>\n",
       "      <td>Female</td>\n",
       "      <td>No</td>\n",
       "      <td>30 - 39 Years</td>\n",
       "      <td>No</td>\n",
       "    </tr>\n",
       "    <tr>\n",
       "      <th>991895</th>\n",
       "      <td>Laboratory-confirmed case</td>\n",
       "      <td>Female</td>\n",
       "      <td>No</td>\n",
       "      <td>30 - 39 Years</td>\n",
       "      <td>Yes</td>\n",
       "    </tr>\n",
       "  </tbody>\n",
       "</table>\n",
       "<p>991896 rows × 5 columns</p>\n",
       "</div>"
      ],
      "text/plain": [
       "                     Covid Status  Gender Hospitalized      Age Group  \\\n",
       "0       Laboratory-confirmed case    Male           No  10 - 19 Years   \n",
       "1       Laboratory-confirmed case    Male           No  10 - 19 Years   \n",
       "2       Laboratory-confirmed case    Male           No  10 - 19 Years   \n",
       "3       Laboratory-confirmed case    Male           No  10 - 19 Years   \n",
       "4       Laboratory-confirmed case    Male           No  10 - 19 Years   \n",
       "...                           ...     ...          ...            ...   \n",
       "991891  Laboratory-confirmed case  Female          Yes  30 - 39 Years   \n",
       "991892  Laboratory-confirmed case  Female           No  30 - 39 Years   \n",
       "991893  Laboratory-confirmed case  Female           No  30 - 39 Years   \n",
       "991894  Laboratory-confirmed case  Female           No  30 - 39 Years   \n",
       "991895  Laboratory-confirmed case  Female           No  30 - 39 Years   \n",
       "\n",
       "       Pre-Existing Condition  \n",
       "0                          No  \n",
       "1                          No  \n",
       "2                          No  \n",
       "3                         Yes  \n",
       "4                          No  \n",
       "...                       ...  \n",
       "991891                    Yes  \n",
       "991892                    Yes  \n",
       "991893                    Yes  \n",
       "991894                     No  \n",
       "991895                    Yes  \n",
       "\n",
       "[991896 rows x 5 columns]"
      ]
     },
     "execution_count": 3,
     "metadata": {},
     "output_type": "execute_result"
    }
   ],
   "source": [
    "del org_data_df[\"Unnamed: 0\"]\n",
    "org_data_df"
   ]
  },
  {
   "cell_type": "code",
   "execution_count": 33,
   "metadata": {},
   "outputs": [
    {
     "data": {
      "text/plain": [
       "<matplotlib.axes._subplots.AxesSubplot at 0x7f8e957a8400>"
      ]
     },
     "execution_count": 33,
     "metadata": {},
     "output_type": "execute_result"
    },
    {
     "data": {
      "image/png": "[encoded data removed]",
      "text/plain": [
       "<Figure size 432x288 with 1 Axes>"
      ]
     },
     "metadata": {
      "needs_background": "light"
     },
     "output_type": "display_data"
    }
   ],
   "source": [
    "hosp_y = len(org_data_df.loc[(org_data_df[\"Pre-Existing Condition\"] == \"Yes\")])\n",
    "hosp_n = len(org_data_df.loc[(org_data_df[\"Pre-Existing Condition\"] == \"No\")])\n",
    "\n",
    "male_pre = len(org_data_df.loc[(org_data_df[\"Gender\"] == \"Male\") & (org_data_df[\"Pre-Existing Condition\"] == \"Yes\")])\n",
    "female_pre = len(org_data_df.loc[(org_data_df[\"Gender\"] == \"Female\") & (org_data_df[\"Pre-Existing Condition\"] == \"Yes\")])\n",
    "\n",
    "male_nopre = len(org_data_df.loc[(org_data_df[\"Gender\"] == \"Male\") & (org_data_df[\"Pre-Existing Condition\"] == \"No\")])\n",
    "female_nopre = len(org_data_df.loc[(org_data_df[\"Gender\"] == \"Female\") & (org_data_df[\"Pre-Existing Condition\"] == \"No\")])\n",
    "\n",
    "gender = [\"Male\", \"Female\"]\n",
    "prex_df = pd.DataFrame({\"Pre-Existing\": [male_pre, female_pre], \"Non-Existing\" : [male_nopre, female_nopre]}, index = gender)\n",
    "prex_df.plot.bar(rot = 0)"
   ]
  },
  {
   "cell_type": "code",
   "execution_count": 34,
   "metadata": {},
   "outputs": [
    {
     "data": {
      "text/plain": [
       "<matplotlib.axes._subplots.AxesSubplot at 0x7f8e957c06d0>"
      ]
     },
     "execution_count": 34,
     "metadata": {},
     "output_type": "execute_result"
    },
    {
     "data": {
      "image/png": "[encoded data removed]",
      "text/plain": [
       "<Figure size 432x288 with 1 Axes>"
      ]
     },
     "metadata": {
      "needs_background": "light"
     },
     "output_type": "display_data"
    }
   ],
   "source": [
    "male_hy = len(org_data_df.loc[(org_data_df[\"Gender\"] == \"Male\") & (org_data_df[\"Hospitalized\"] == \"Yes\")])\n",
    "female_hy = len(org_data_df.loc[(org_data_df[\"Gender\"] == \"Female\") & (org_data_df[\"Hospitalized\"] == \"Yes\")])\n",
    "male_hn = len(org_data_df.loc[(org_data_df[\"Gender\"] == \"Male\") & (org_data_df[\"Hospitalized\"] == \"No\")])\n",
    "female_hn = len(org_data_df.loc[(org_data_df[\"Gender\"] == \"Female\") & (org_data_df[\"Hospitalized\"] == \"No\")])\n",
    "\n",
    "hosp_df = pd.DataFrame({\"Hospitalized\" : [male_hy, female_hy], \"Not Hospitalized\" : [male_hn, female_hn]}, index = gender)\n",
    "hosp_df.plot.bar(rot = 0)"
   ]
  },
  {
   "cell_type": "code",
   "execution_count": null,
   "metadata": {},
   "outputs": [],
   "source": [
    "# Look at males and number of hospitalizations by pre-existing conditions"
   ]
  }
 ],
 "metadata": {
  "kernelspec": {
   "display_name": "jfPYenv",
   "language": "python",
   "name": "jfpyenv"
  },
  "language_info": {
   "codemirror_mode": {
    "name": "ipython",
    "version": 3
   },
   "file_extension": ".py",
   "mimetype": "text/x-python",
   "name": "python",
   "nbconvert_exporter": "python",
   "pygments_lexer": "ipython3",
   "version": "3.8.3"
  }
 },
 "nbformat": 4,
 "nbformat_minor": 2
}
