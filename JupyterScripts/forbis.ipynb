{
 "cells": [
  {
   "cell_type": "code",
   "execution_count": 2,
   "metadata": {},
   "outputs": [],
   "source": [
    "import pandas as pd\n",
    "from matplotlib import pyplot as plt\n",
    "import scipy.stats as st\n",
    "import datetime as dt"
   ]
  },
  {
   "cell_type": "code",
   "execution_count": 3,
   "metadata": {},
   "outputs": [
    {
     "data": {
      "text/html": [
       "<div>\n",
       "<style scoped>\n",
       "    .dataframe tbody tr th:only-of-type {\n",
       "        vertical-align: middle;\n",
       "    }\n",
       "\n",
       "    .dataframe tbody tr th {\n",
       "        vertical-align: top;\n",
       "    }\n",
       "\n",
       "    .dataframe thead th {\n",
       "        text-align: right;\n",
       "    }\n",
       "</style>\n",
       "<table border=\"1\" class=\"dataframe\">\n",
       "  <thead>\n",
       "    <tr style=\"text-align: right;\">\n",
       "      <th></th>\n",
       "      <th>CDC Report Date</th>\n",
       "      <th>Covid Status</th>\n",
       "      <th>Gender</th>\n",
       "      <th>Age Group</th>\n",
       "      <th>Race/Ethnicity</th>\n",
       "      <th>Hospitalized</th>\n",
       "      <th>Pre-Existing Condition</th>\n",
       "    </tr>\n",
       "  </thead>\n",
       "  <tbody>\n",
       "    <tr>\n",
       "      <th>0</th>\n",
       "      <td>2020/11/10</td>\n",
       "      <td>Laboratory-confirmed case</td>\n",
       "      <td>Male</td>\n",
       "      <td>10 - 19 Years</td>\n",
       "      <td>Black, Non-Hispanic</td>\n",
       "      <td>No</td>\n",
       "      <td>No</td>\n",
       "    </tr>\n",
       "    <tr>\n",
       "      <th>1</th>\n",
       "      <td>2020/11/14</td>\n",
       "      <td>Laboratory-confirmed case</td>\n",
       "      <td>Male</td>\n",
       "      <td>10 - 19 Years</td>\n",
       "      <td>Black, Non-Hispanic</td>\n",
       "      <td>No</td>\n",
       "      <td>No</td>\n",
       "    </tr>\n",
       "    <tr>\n",
       "      <th>2</th>\n",
       "      <td>2020/11/19</td>\n",
       "      <td>Laboratory-confirmed case</td>\n",
       "      <td>Male</td>\n",
       "      <td>10 - 19 Years</td>\n",
       "      <td>Black, Non-Hispanic</td>\n",
       "      <td>No</td>\n",
       "      <td>No</td>\n",
       "    </tr>\n",
       "    <tr>\n",
       "      <th>3</th>\n",
       "      <td>2020/11/13</td>\n",
       "      <td>Laboratory-confirmed case</td>\n",
       "      <td>Male</td>\n",
       "      <td>10 - 19 Years</td>\n",
       "      <td>Black, Non-Hispanic</td>\n",
       "      <td>No</td>\n",
       "      <td>Yes</td>\n",
       "    </tr>\n",
       "    <tr>\n",
       "      <th>4</th>\n",
       "      <td>2020/11/09</td>\n",
       "      <td>Laboratory-confirmed case</td>\n",
       "      <td>Male</td>\n",
       "      <td>10 - 19 Years</td>\n",
       "      <td>Black, Non-Hispanic</td>\n",
       "      <td>No</td>\n",
       "      <td>No</td>\n",
       "    </tr>\n",
       "    <tr>\n",
       "      <th>...</th>\n",
       "      <td>...</td>\n",
       "      <td>...</td>\n",
       "      <td>...</td>\n",
       "      <td>...</td>\n",
       "      <td>...</td>\n",
       "      <td>...</td>\n",
       "      <td>...</td>\n",
       "    </tr>\n",
       "    <tr>\n",
       "      <th>991891</th>\n",
       "      <td>2020/06/10</td>\n",
       "      <td>Laboratory-confirmed case</td>\n",
       "      <td>Female</td>\n",
       "      <td>30 - 39 Years</td>\n",
       "      <td>Hispanic/Latino</td>\n",
       "      <td>Yes</td>\n",
       "      <td>Yes</td>\n",
       "    </tr>\n",
       "    <tr>\n",
       "      <th>991892</th>\n",
       "      <td>2020/06/08</td>\n",
       "      <td>Laboratory-confirmed case</td>\n",
       "      <td>Female</td>\n",
       "      <td>30 - 39 Years</td>\n",
       "      <td>Hispanic/Latino</td>\n",
       "      <td>No</td>\n",
       "      <td>Yes</td>\n",
       "    </tr>\n",
       "    <tr>\n",
       "      <th>991893</th>\n",
       "      <td>2020/06/10</td>\n",
       "      <td>Laboratory-confirmed case</td>\n",
       "      <td>Female</td>\n",
       "      <td>30 - 39 Years</td>\n",
       "      <td>Hispanic/Latino</td>\n",
       "      <td>No</td>\n",
       "      <td>Yes</td>\n",
       "    </tr>\n",
       "    <tr>\n",
       "      <th>991894</th>\n",
       "      <td>2020/06/01</td>\n",
       "      <td>Laboratory-confirmed case</td>\n",
       "      <td>Female</td>\n",
       "      <td>30 - 39 Years</td>\n",
       "      <td>Hispanic/Latino</td>\n",
       "      <td>No</td>\n",
       "      <td>No</td>\n",
       "    </tr>\n",
       "    <tr>\n",
       "      <th>991895</th>\n",
       "      <td>2020/06/10</td>\n",
       "      <td>Laboratory-confirmed case</td>\n",
       "      <td>Female</td>\n",
       "      <td>30 - 39 Years</td>\n",
       "      <td>Hispanic/Latino</td>\n",
       "      <td>No</td>\n",
       "      <td>Yes</td>\n",
       "    </tr>\n",
       "  </tbody>\n",
       "</table>\n",
       "<p>991896 rows × 7 columns</p>\n",
       "</div>"
      ],
      "text/plain": [
       "       CDC Report Date               Covid Status  Gender      Age Group  \\\n",
       "0           2020/11/10  Laboratory-confirmed case    Male  10 - 19 Years   \n",
       "1           2020/11/14  Laboratory-confirmed case    Male  10 - 19 Years   \n",
       "2           2020/11/19  Laboratory-confirmed case    Male  10 - 19 Years   \n",
       "3           2020/11/13  Laboratory-confirmed case    Male  10 - 19 Years   \n",
       "4           2020/11/09  Laboratory-confirmed case    Male  10 - 19 Years   \n",
       "...                ...                        ...     ...            ...   \n",
       "991891      2020/06/10  Laboratory-confirmed case  Female  30 - 39 Years   \n",
       "991892      2020/06/08  Laboratory-confirmed case  Female  30 - 39 Years   \n",
       "991893      2020/06/10  Laboratory-confirmed case  Female  30 - 39 Years   \n",
       "991894      2020/06/01  Laboratory-confirmed case  Female  30 - 39 Years   \n",
       "991895      2020/06/10  Laboratory-confirmed case  Female  30 - 39 Years   \n",
       "\n",
       "             Race/Ethnicity Hospitalized Pre-Existing Condition  \n",
       "0       Black, Non-Hispanic           No                     No  \n",
       "1       Black, Non-Hispanic           No                     No  \n",
       "2       Black, Non-Hispanic           No                     No  \n",
       "3       Black, Non-Hispanic           No                    Yes  \n",
       "4       Black, Non-Hispanic           No                     No  \n",
       "...                     ...          ...                    ...  \n",
       "991891      Hispanic/Latino          Yes                    Yes  \n",
       "991892      Hispanic/Latino           No                    Yes  \n",
       "991893      Hispanic/Latino           No                    Yes  \n",
       "991894      Hispanic/Latino           No                     No  \n",
       "991895      Hispanic/Latino           No                    Yes  \n",
       "\n",
       "[991896 rows x 7 columns]"
      ]
     },
     "execution_count": 3,
     "metadata": {},
     "output_type": "execute_result"
    }
   ],
   "source": [
    "# file path\n",
    "filepath = '../Resources/cleanedCaseSurveillance.csv'\n",
    "\n",
    "# Reading CSV File\n",
    "org_data_df = pd.read_csv(filepath)\n",
    "org_data_df"
   ]
  },
  {
   "cell_type": "code",
   "execution_count": 7,
   "metadata": {},
   "outputs": [
    {
     "data": {
      "text/html": [
       "<style  type=\"text/css\" >\n",
       "</style><table id=\"T_f7ff9db6_3db1_11eb_b624_acde48001122\" ><thead>    <tr>        <th class=\"blank level0\" ></th>        <th class=\"col_heading level0 col0\" >Male</th>        <th class=\"col_heading level0 col1\" >Female</th>    </tr></thead><tbody>\n",
       "                <tr>\n",
       "                        <th id=\"T_f7ff9db6_3db1_11eb_b624_acde48001122level0_row0\" class=\"row_heading level0 row0\" >Pre-Existing</th>\n",
       "                        <td id=\"T_f7ff9db6_3db1_11eb_b624_acde48001122row0_col0\" class=\"data row0 col0\" >259,987</td>\n",
       "                        <td id=\"T_f7ff9db6_3db1_11eb_b624_acde48001122row0_col1\" class=\"data row0 col1\" >299,876</td>\n",
       "            </tr>\n",
       "            <tr>\n",
       "                        <th id=\"T_f7ff9db6_3db1_11eb_b624_acde48001122level0_row1\" class=\"row_heading level0 row1\" >Non-Existing</th>\n",
       "                        <td id=\"T_f7ff9db6_3db1_11eb_b624_acde48001122row1_col0\" class=\"data row1 col0\" >204,863</td>\n",
       "                        <td id=\"T_f7ff9db6_3db1_11eb_b624_acde48001122row1_col1\" class=\"data row1 col1\" >227,161</td>\n",
       "            </tr>\n",
       "    </tbody></table>"
      ],
      "text/plain": [
       "<pandas.io.formats.style.Styler at 0x7f972b064730>"
      ]
     },
     "execution_count": 7,
     "metadata": {},
     "output_type": "execute_result"
    },
    {
     "data": {
      "image/png": "[encoded data removed]",
      "text/plain": [
       "<Figure size 432x288 with 1 Axes>"
      ]
     },
     "metadata": {
      "needs_background": "light"
     },
     "output_type": "display_data"
    }
   ],
   "source": [
    "hosp_y = len(org_data_df.loc[(org_data_df[\"Pre-Existing Condition\"] == \"Yes\")])\n",
    "hosp_n = len(org_data_df.loc[(org_data_df[\"Pre-Existing Condition\"] == \"No\")])\n",
    "\n",
    "male_pre = len(org_data_df.loc[(org_data_df[\"Gender\"] == \"Male\") & (org_data_df[\"Pre-Existing Condition\"] == \"Yes\")])\n",
    "female_pre = len(org_data_df.loc[(org_data_df[\"Gender\"] == \"Female\") & (org_data_df[\"Pre-Existing Condition\"] == \"Yes\")])\n",
    "\n",
    "male_nopre = len(org_data_df.loc[(org_data_df[\"Gender\"] == \"Male\") & (org_data_df[\"Pre-Existing Condition\"] == \"No\")])\n",
    "female_nopre = len(org_data_df.loc[(org_data_df[\"Gender\"] == \"Female\") & (org_data_df[\"Pre-Existing Condition\"] == \"No\")])\n",
    "\n",
    "gender = [\"Male\", \"Female\"]\n",
    "prex_df = pd.DataFrame({\"Pre-Existing\": [male_pre, female_pre], \"Non-Existing\" : [male_nopre, female_nopre]}, index = gender).T\n",
    "ax = prex_df.plot(kind='bar', rot=0) \n",
    "ax.set_ylabel(\"Covid Positive Individuals\")\n",
    "ax.set_title(\"Pre/Non Existing Conditions\\n by: Gender\")\n",
    "ax.legend(loc = \"best\")\n",
    "plt.savefig(\"../Images/ConditionsByGender.png\")\n",
    "prex_df.style.format(\"{:,.0f}\")"
   ]
  },
  {
   "cell_type": "code",
   "execution_count": 6,
   "metadata": {},
   "outputs": [
    {
     "data": {
      "text/html": [
       "<style  type=\"text/css\" >\n",
       "</style><table id=\"T_53e4b974_3db0_11eb_b624_acde48001122\" ><thead>    <tr>        <th class=\"blank level0\" ></th>        <th class=\"col_heading level0 col0\" >Male</th>        <th class=\"col_heading level0 col1\" >Female</th>    </tr></thead><tbody>\n",
       "                <tr>\n",
       "                        <th id=\"T_53e4b974_3db0_11eb_b624_acde48001122level0_row0\" class=\"row_heading level0 row0\" >Hospitalized</th>\n",
       "                        <td id=\"T_53e4b974_3db0_11eb_b624_acde48001122row0_col0\" class=\"data row0 col0\" >91,825</td>\n",
       "                        <td id=\"T_53e4b974_3db0_11eb_b624_acde48001122row0_col1\" class=\"data row0 col1\" >82,089</td>\n",
       "            </tr>\n",
       "            <tr>\n",
       "                        <th id=\"T_53e4b974_3db0_11eb_b624_acde48001122level0_row1\" class=\"row_heading level0 row1\" >Not Hospitalized</th>\n",
       "                        <td id=\"T_53e4b974_3db0_11eb_b624_acde48001122row1_col0\" class=\"data row1 col0\" >373,025</td>\n",
       "                        <td id=\"T_53e4b974_3db0_11eb_b624_acde48001122row1_col1\" class=\"data row1 col1\" >444,948</td>\n",
       "            </tr>\n",
       "    </tbody></table>"
      ],
      "text/plain": [
       "<pandas.io.formats.style.Styler at 0x7f9743f07be0>"
      ]
     },
     "execution_count": 6,
     "metadata": {},
     "output_type": "execute_result"
    },
    {
     "data": {
      "image/png": "[encoded data removed]",
      "text/plain": [
       "<Figure size 432x288 with 1 Axes>"
      ]
     },
     "metadata": {
      "needs_background": "light"
     },
     "output_type": "display_data"
    }
   ],
   "source": [
    "male_hy = len(org_data_df.loc[(org_data_df[\"Gender\"] == \"Male\") & (org_data_df[\"Hospitalized\"] == \"Yes\")])\n",
    "female_hy = len(org_data_df.loc[(org_data_df[\"Gender\"] == \"Female\") & (org_data_df[\"Hospitalized\"] == \"Yes\")])\n",
    "male_hn = len(org_data_df.loc[(org_data_df[\"Gender\"] == \"Male\") & (org_data_df[\"Hospitalized\"] == \"No\")])\n",
    "female_hn = len(org_data_df.loc[(org_data_df[\"Gender\"] == \"Female\") & (org_data_df[\"Hospitalized\"] == \"No\")])\n",
    "\n",
    "hosp_df = pd.DataFrame({\"Hospitalized\" : [male_hy, female_hy], \"Not Hospitalized\" : [male_hn, female_hn]}, index = gender).T\n",
    "ax = hosp_df.plot(kind='bar', rot=0) \n",
    "ax.set_ylabel(\"# of Hospitalizations\")\n",
    "ax.set_title(\"Hospitalizations by:\\n Gender\")\n",
    "\n",
    "ax.legend(loc = \"best\")\n",
    "plt.savefig(\"../Images/HospitalizationsByGender.png\")\n",
    "hosp_df.style.format(\"{:,.0f}\")"
   ]
  },
  {
   "cell_type": "code",
   "execution_count": null,
   "metadata": {},
   "outputs": [],
   "source": [
    "# Look at gender vs number of hospitalizations by pre-existing conditions\n",
    "mhp = len(org_data_df.loc[(org_data_df[\"Gender\"] == \"Male\") &\n",
    "                      (org_data_df[\"Pre-Existing Condition\"] == \"Yes\") &\n",
    "                      (org_data_df[\"Hospitalized\"] == \"Yes\")])\n",
    "fhp = len(org_data_df.loc[(org_data_df[\"Gender\"] == \"Female\") &\n",
    "                      (org_data_df[\"Pre-Existing Condition\"] == \"Yes\") &\n",
    "                      (org_data_df[\"Hospitalized\"] == \"Yes\")])\n",
    "\n",
    "mhnp = len(org_data_df.loc[(org_data_df[\"Gender\"] == \"Male\") &\n",
    "                      (org_data_df[\"Pre-Existing Condition\"] == \"No\") &\n",
    "                      (org_data_df[\"Hospitalized\"] == \"Yes\")])\n",
    "fhnp = len(org_data_df.loc[(org_data_df[\"Gender\"] == \"Female\") &\n",
    "                      (org_data_df[\"Pre-Existing Condition\"] == \"No\") &\n",
    "                      (org_data_df[\"Hospitalized\"] == \"Yes\")])\n",
    "prex = [\"Male\", \"Female\"]\n",
    "prex_df = pd.DataFrame({\"Pre-Existing & Hospitalized\" : [mhp,fhp], \"Non-Existing & Hospitalized\" : [mhnp,fhnp]}, index = prex).T\n",
    "ax = prex_df.plot(kind='bar', rot=0) \n",
    "ax.set_ylabel(\"Confirmed Cases\")\n",
    "ax.set_title(\"Confirmed cases by:\\n Pre-Existing Condition and Hospitalization\")\n",
    "\n",
    "ax.legend(loc = \"best\")\n",
    "# plt.show()\n",
    "plt.savefig(\"../Images/MaleFemalePreXvsHosp.png\")\n",
    "total_males = mhp + mhnp\n",
    "total_females = fhp + fhnp\n",
    "prex_df[\"Hospitalized w/ Pre-Existing Condition %\"] = [(mhp/total_males), (fhp/total_females)]\n",
    "prex_df.style.format(\"{:,.0f}\")"
   ]
  },
  {
   "cell_type": "code",
   "execution_count": null,
   "metadata": {},
   "outputs": [],
   "source": []
  }
 ],
 "metadata": {
  "kernelspec": {
   "display_name": "jfPYenv",
   "language": "python",
   "name": "jfpyenv"
  },
  "language_info": {
   "codemirror_mode": {
    "name": "ipython",
    "version": 3
   },
   "file_extension": ".py",
   "mimetype": "text/x-python",
   "name": "python",
   "nbconvert_exporter": "python",
   "pygments_lexer": "ipython3",
   "version": "3.8.3"
  }
 },
 "nbformat": 4,
 "nbformat_minor": 2
}
