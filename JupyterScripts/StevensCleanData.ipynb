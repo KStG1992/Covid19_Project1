{
 "cells": [
  {
   "cell_type": "code",
   "execution_count": 1,
   "metadata": {},
   "outputs": [],
   "source": [
    "# Importing Relevant Dependencies\n",
    "import pandas as pd\n",
    "from matplotlib import pyplot as plt\n",
    "import scipy.stats as st\n",
    "import datetime as dt\n",
    "import numpy as np\n",
    "\n",
    "\n",
    "cdcPath = \"../../../COVID-19_Case_Surveillance_Public_Use_Data.csv\""
   ]
  },
  {
   "cell_type": "code",
   "execution_count": null,
   "metadata": {
    "scrolled": true
   },
   "outputs": [],
   "source": [
    "# Create data frame from CSV file variable(path) using pandas .read_csv() method\n",
    "cdcDf = pd.read_csv(cdcPath, low_memory=False)\n",
    "\n",
    "# Print out first 10 rows for inspection\n",
    "cdcDf.head(3)"
   ]
  },
  {
   "cell_type": "code",
   "execution_count": null,
   "metadata": {},
   "outputs": [],
   "source": [
    "# Dropping unnecessary columns\n",
    "cutCdcDf = cdcDf.drop(['pos_spec_dt', 'onset_dt','icu_yn','death_yn'], axis=1)\n",
    "\n",
    "cutCdcDf.head()"
   ]
  },
  {
   "cell_type": "code",
   "execution_count": null,
   "metadata": {},
   "outputs": [],
   "source": [
    "# Checking values in Race and Ethnicity to identify possible invalid/missing values \n",
    "cdcDf['Race and ethnicity (combined)'].value_counts()"
   ]
  },
  {
   "cell_type": "code",
   "execution_count": null,
   "metadata": {},
   "outputs": [],
   "source": [
    "# Dropping missing or unknown data using conditional formatting\n",
    "ethUnkDf = cutCdcDf[(cutCdcDf['Race and ethnicity (combined)'] != 'Missing') &\n",
    "                    (cutCdcDf['Race and ethnicity (combined)'] != 'Unknown') ]\n",
    "ethUnkDf.head()"
   ]
  },
  {
   "cell_type": "code",
   "execution_count": null,
   "metadata": {},
   "outputs": [],
   "source": [
    "# Re-Checking values in Race and Ethnicity for conditional formatting accuracy\n",
    "ethUnkDf['Race and ethnicity (combined)'].value_counts()"
   ]
  },
  {
   "cell_type": "code",
   "execution_count": null,
   "metadata": {},
   "outputs": [],
   "source": [
    "# Checking values in the Age Groups\n",
    "ethUnkDf['age_group'].value_counts()"
   ]
  },
  {
   "cell_type": "code",
   "execution_count": null,
   "metadata": {},
   "outputs": [],
   "source": [
    "# Dropping unknown values from the age groups\n",
    "unkAgeDf = ethUnkDf[ethUnkDf['age_group'] != 'Unknown']\n",
    "\n",
    "# Checking for accuracy\n",
    "unkAgeDf.head()"
   ]
  },
  {
   "cell_type": "code",
   "execution_count": null,
   "metadata": {},
   "outputs": [],
   "source": [
    "# Checking hospitilization values\n",
    "unkAgeDf['hosp_yn'].value_counts()"
   ]
  },
  {
   "cell_type": "code",
   "execution_count": null,
   "metadata": {},
   "outputs": [],
   "source": [
    "# Dropping missing and unknown values from hospitilization\n",
    "misHospDf = unkAgeDf[(unkAgeDf['hosp_yn'] != 'Missing') &\n",
    "                     (unkAgeDf['hosp_yn'] != 'Unknown')]\n",
    "\n",
    "misHospDf.head(10)"
   ]
  },
  {
   "cell_type": "code",
   "execution_count": null,
   "metadata": {},
   "outputs": [],
   "source": [
    "# Checking values for medical conditions\n",
    "misHospDf['medcond_yn'].value_counts()"
   ]
  },
  {
   "cell_type": "code",
   "execution_count": null,
   "metadata": {},
   "outputs": [],
   "source": [
    "# Dropping missing and unknown values from conditions\n",
    "misMedDf = misHospDf[(misHospDf['medcond_yn'] != 'Missing') &\n",
    "                     (misHospDf['medcond_yn'] != 'Unknown')]\n",
    "\n",
    "misMedDf.head(10)"
   ]
  },
  {
   "cell_type": "code",
   "execution_count": null,
   "metadata": {
    "scrolled": true
   },
   "outputs": [],
   "source": [
    "# Checking values in the sex column\n",
    "misMedDf['sex'].value_counts()"
   ]
  },
  {
   "cell_type": "code",
   "execution_count": null,
   "metadata": {},
   "outputs": [],
   "source": [
    "# Removing missing and unknown values from the sex column\n",
    "misSexDf = misMedDf[(misMedDf['sex'] != 'Missing') &\n",
    "                    (misMedDf['sex'] != 'Unknown') &\n",
    "                    (misMedDf['sex'] != 'Other') ]\n",
    "\n",
    "misSexDf.head()"
   ]
  },
  {
   "cell_type": "code",
   "execution_count": null,
   "metadata": {},
   "outputs": [],
   "source": [
    "# Checking values in the status column\n",
    "misSexDf['current_status'].value_counts()"
   ]
  },
  {
   "cell_type": "code",
   "execution_count": null,
   "metadata": {},
   "outputs": [],
   "source": [
    "# Removing non-laboratory confirmed cases\n",
    "cleanCdcDf = misSexDf[misSexDf['current_status'] != 'Probable Case']\n",
    "cleanCdcDf.head(10)"
   ]
  },
  {
   "cell_type": "code",
   "execution_count": null,
   "metadata": {},
   "outputs": [],
   "source": [
    "# Renaming Column Headers for Visualization and Analyis Purposes\n",
    "rnCdcDf = cleanCdcDf.rename(columns={\"cdc_report_dt\": \"CDC Report Date\",\n",
    "                                     \"current_status\": \"Covid Status\",\n",
    "                                     \"sex\": \"Gender\",\n",
    "                                     \"age_group\": \"Age Group\",\n",
    "                                     \"Race and ethnicity (combined)\": \"Race/Ethnicity\",\n",
    "                                     \"hosp_yn\": \"Hospitalized\",\n",
    "                                     \"medcond_yn\": \"Pre-Existing Condition\"})\n",
    "# Sort values by CDC Report Date\n",
    "sorted_CdcDf = rnCdcDf.sort_values(\"CDC Report Date\", ascending=True)\n",
    "\n",
    "# Reset index and save to new variable\n",
    "resetCdcDf = sorted_CdcDf.reset_index(drop=True)\n",
    "\n",
    "resetCdcDf.head()"
   ]
  },
  {
   "cell_type": "code",
   "execution_count": null,
   "metadata": {},
   "outputs": [],
   "source": [
    "# Convert Date column to correct \"date\" type\n",
    "resetCdcDf['CDC Report Date'] = pd.to_datetime(resetCdcDf['CDC Report Date'], format= '%Y/%m/%d')\n",
    "\n",
    "# Create new column for months of the date for grouping purposes and change to \"numerical\" type\n",
    "resetCdcDf['CDC Report Month (#)'] = resetCdcDf['CDC Report Date'].dt.strftime('%m')\n",
    "resetCdcDf['CDC Report Month (#)'] = pd.to_numeric(resetCdcDf['CDC Report Month (#)'])\n",
    "\n",
    "# Create bins to aggregate the data into months and use pd.cut() method to bin the data into a new column\n",
    "bins = [0, 1, 2, 3, 4, 5, 6, 7, 8, 9, 10, 11]\n",
    "months = [\"January\", \"February\", \"March\", \"April\", \"May\", \"June\", \"July\", \"August\", \"September\", \"October\", \"November\"]\n",
    "\n",
    "resetCdcDf['CDC Report Month'] = pd.cut(resetCdcDf['CDC Report Month (#)'], bins, labels=months, include_lowest=False)\n",
    "resetCdcDf.head()"
   ]
  },
  {
   "cell_type": "code",
   "execution_count": null,
   "metadata": {},
   "outputs": [],
   "source": [
    "# Create variable for refence when calling aggregates by Month\n",
    "monthCdcDf = resetCdcDf.groupby(\"CDC Report Month\")\n",
    "\n",
    "# Below is simply an example, you can perform any aggregates youd like \n",
    "count_df = monthCdcDf.sum()\n",
    "count_df['Cases Per Day'] = \"\"\n",
    "count_df['Cases Per Day'] = [ round(28/31, 2), round(294/28, 2), round(90843/31, 2),\n",
    "                             round(332736/30, 2), round(435255/31, 2), round(884196/30, 2),\n",
    "                             round(1000902/31, 2), round(1028376/31, 2), round(942156/30, 2),\n",
    "                             round(1423530/31, 2), round(1377959/19, 2) ]\n",
    "count_df"
   ]
  },
  {
   "cell_type": "code",
   "execution_count": null,
   "metadata": {},
   "outputs": [],
   "source": [
    "## Create a line graph based on the group series to track total cases over the period of the year \n",
    "# Set x-axis and tick locations\n",
    "x_axis = np.arange(len(months))\n",
    "tick_locations = [month for month in x_axis]\n",
    "\n",
    "# Create line chart tracking the change in cases per day thorughout the year\n",
    "avg_daily = count_df['Cases Per Day'] \n",
    "plt.plot(x_axis, avg_daily, color=\"red\", marker=\"o\", label=\"Cases per Day\", linestyle=\"dashed\")\n",
    "\n",
    "# Set the labels, axes, and title\n",
    "plt.xticks(tick_locations, months, rotation=\"vertical\")\n",
    "plt.title(\"US Average Cases per Day 2020\")\n",
    "plt.xlabel(\"Months\")\n",
    "plt.ylabel(\"Cases per Day\")\n",
    "\n",
    "plt.tight_layout()\n",
    "plt.show()\n",
    "plt.savefig(\"../Images/CasesPerDay.png\")"
   ]
  },
  {
   "cell_type": "code",
   "execution_count": null,
   "metadata": {},
   "outputs": [],
   "source": [
    "## GENDER vs. HOSPITALIZATION"
   ]
  },
  {
   "cell_type": "code",
   "execution_count": null,
   "metadata": {},
   "outputs": [],
   "source": [
    "# Data Frame Specific to the Analysis of Gender vs. Hospitalization Status \n",
    "patient_sex_df = resetCdcDf[[\"CDC Report Month\", \"Gender\", \"Hospitalized\"]]\n",
    "patient_sex_df.head()"
   ]
  },
  {
   "cell_type": "code",
   "execution_count": null,
   "metadata": {},
   "outputs": [],
   "source": [
    "# The Data Frame below in the superimposition of the two line graphs following"
   ]
  },
  {
   "cell_type": "code",
   "execution_count": null,
   "metadata": {},
   "outputs": [],
   "source": [
    "# Create a data frame grouped by Month and Gender\n",
    "gender_month_df = resetCdcDf.groupby([\"CDC Report Month\", \"Gender\"])\n",
    "gender_month_df.sum()\n",
    "gender_avg = gender_month_df.sum()\n",
    "\n",
    "# Pivot table for readability and plotting purposes\n",
    "gender_avg_pivot = gender_avg.pivot_table('CDC Report Month (#)', index='CDC Report Month', columns='Gender')\n",
    "\n",
    "\n",
    "## Create a line graph based on the Gender\n",
    "male_avg, = plt.plot(months, gender_avg_pivot['Male'], color=\"blue\", label=\"Male Avg\")\n",
    "female_avg, = plt.plot(months, gender_avg_pivot['Female'], color=\"red\", label=\"Female Avg\")\n",
    "\n",
    "# Set the labels, axes, legend, and title\n",
    "plt.xticks(tick_locations, months, rotation=\"vertical\")\n",
    "plt.title(\"US Average Cases per Month by Gender 2020\")\n",
    "plt.xlabel(\"Months\")\n",
    "plt.ylabel(\"Cases per Month\")\n",
    "plt.legend(handles=[male_avg, female_avg], loc=\"best\")\n",
    "\n",
    "plt.tight_layout()\n",
    "plt.show()\n",
    "plt.savefig(\"../Images/GenderCasesPerMonth.png\")\n",
    "\n",
    "gender_avg_pivot\n",
    "gender_avg"
   ]
  },
  {
   "cell_type": "code",
   "execution_count": null,
   "metadata": {},
   "outputs": [],
   "source": [
    "#Make Data Frame only including columns where Hospitalized is True\n",
    "hos_gender_df = patient_sex_df[patient_sex_df['Hospitalized'] == \"Yes\"]\n",
    "hos_gender_df.head()\n",
    "\n",
    "# Create a data frame grouped by Month and Pre-Existing Condition\n",
    "gender_hos_month_df = hos_gender_df.groupby([\"CDC Report Month\", \"Gender\"])\n",
    "gender_hos_avg = gender_hos_month_df.count()\n",
    "gender_hos_avg\n",
    "\n",
    "# Pivot table for readability and plotting purposes\n",
    "gender_hos_avg_pivot = gender_hos_avg.pivot_table('Hospitalized', index='CDC Report Month', columns='Gender')\n",
    "gender_hos_avg_pivot"
   ]
  },
  {
   "cell_type": "code",
   "execution_count": null,
   "metadata": {},
   "outputs": [],
   "source": [
    "## Create a line graph based on the Gender (Hospitalization = Yes)\n",
    "hos_gen_fem_avg, = plt.plot(months, gender_hos_avg_pivot['Female'], color=\"red\", label=\"Female\")\n",
    "hos_gen_male_avg, = plt.plot(months, gender_hos_avg_pivot['Male'], color=\"blue\", label=\"Male\")\n",
    "\n",
    "# Set the labels, axes, legend, and title\n",
    "plt.xticks(tick_locations, months, rotation=\"vertical\")\n",
    "plt.title(\"US Hospitalization Cases per Month by Gender 2020\")\n",
    "plt.xlabel(\"Months\")\n",
    "plt.ylabel(\"Cases per Month\")\n",
    "plt.legend(handles=[hos_gen_fem_avg, hos_gen_male_avg], loc=\"best\")\n",
    "\n",
    "plt.tight_layout()\n",
    "plt.show()\n",
    "plt.savefig(\"../Images/HospitalizationsGenderMonth.png\")"
   ]
  },
  {
   "cell_type": "code",
   "execution_count": null,
   "metadata": {},
   "outputs": [],
   "source": [
    "#Make Data Frame only including columns where Hospitalized is False\n",
    "ok_gender_df = patient_sex_df[patient_sex_df['Hospitalized'] == \"No\"]\n",
    "ok_gender_df.head()\n",
    "\n",
    "# Create a data frame grouped by Month and Gender\n",
    "gender_ok_month_df = ok_gender_df.groupby([\"CDC Report Month\", \"Gender\"])\n",
    "gender_ok_avg = gender_ok_month_df.count()\n",
    "gender_ok_avg\n",
    "\n",
    "# Pivot table for readability and plotting purposes\n",
    "gender_ok_avg_pivot = gender_ok_avg.pivot_table('Hospitalized', index='CDC Report Month', columns='Gender')\n",
    "gender_ok_avg_pivot"
   ]
  },
  {
   "cell_type": "code",
   "execution_count": null,
   "metadata": {},
   "outputs": [],
   "source": [
    "## Create a line graph based on the Gender (Hospitalization = No)\n",
    "ok_gen_fem_avg, = plt.plot(months, gender_ok_avg_pivot['Female'], color=\"red\", label=\"Female\")\n",
    "ok_gen_male_avg, = plt.plot(months, gender_ok_avg_pivot['Male'], color=\"blue\", label=\"Male\")\n",
    "\n",
    "# Set the labels, axes, legend, and title\n",
    "plt.xticks(tick_locations, months, rotation=\"vertical\")\n",
    "plt.title(\"US Non-Hospitalization Cases per Month by Gender 2020\")\n",
    "plt.xlabel(\"Months\")\n",
    "plt.ylabel(\"Cases per Month\")\n",
    "plt.legend(handles=[ok_gen_fem_avg, ok_gen_male_avg], loc=\"best\")\n",
    "\n",
    "plt.tight_layout()\n",
    "plt.show()\n",
    "plt.savefig(\"../Images/NonHospGenderMonth.png\")"
   ]
  },
  {
   "cell_type": "code",
   "execution_count": null,
   "metadata": {},
   "outputs": [],
   "source": [
    "## AGE GROUP vs. HOSPITALIZATION"
   ]
  },
  {
   "cell_type": "code",
   "execution_count": null,
   "metadata": {},
   "outputs": [],
   "source": [
    "# Data Frame Specific to the Analysis of Age Group vs. Hospitalization Status\n",
    "# Removed uneeded column\n",
    "patient_age_df = resetCdcDf[[\"CDC Report Month\", \"Hospitalized\", \"Age Group\"]]\n",
    "patient_age_df.head()"
   ]
  },
  {
   "cell_type": "code",
   "execution_count": null,
   "metadata": {
    "scrolled": true
   },
   "outputs": [],
   "source": [
    "# Make a copy of the original cleaned/reset data \n",
    "# This is necessary bc Python/Pandas does not like using any iterative methods on a dataframe that is a slice of the original \n",
    "\n",
    "resetCdcDf1 = resetCdcDf.copy()\n",
    "resetCdcDf1.head()\n",
    "\n",
    "# Replace Age Groups with Age Divisions\n",
    "resetCdcDf1['Age Group'] = resetCdcDf1['Age Group'].replace({'50 - 59 Years':'Older', '60 - 69 Years':'Older', '70 - 79 Years':'Older', '80+ Years':'Older'})\n",
    "resetCdcDf1['Age Group'] = resetCdcDf1['Age Group'].replace({'0 - 9 Years':'Younger', '10 - 19 Years':'Younger', '20 - 29 Years':'Younger', '30 - 39 Years':'Younger', '40 - 49 Years':'Younger'})\n",
    "\n",
    "# Rename this Column to 'Age Division'\n",
    "renamedCdcDf1 = resetCdcDf1.rename(columns={'Age Group':'Age Division'})\n",
    "\n",
    "renamedCdcDf1.head(20)"
   ]
  },
  {
   "cell_type": "code",
   "execution_count": null,
   "metadata": {
    "scrolled": true
   },
   "outputs": [],
   "source": [
    "# Now, Make a Data Frame Specific to the Analysis of Age Division vs. Hospitalization Status\n",
    "patient_age_df = renamedCdcDf1[[\"CDC Report Month\", \"Hospitalized\", \"Age Division\"]]\n",
    "patient_age_df.head(10)"
   ]
  },
  {
   "cell_type": "code",
   "execution_count": null,
   "metadata": {},
   "outputs": [],
   "source": [
    "# For Line Chart displaying Hospitalizations by Age Division\n",
    "#Make Data Frame only including columns where Hospitalized is True\n",
    "hos_age_df = patient_age_df[patient_age_df['Hospitalized'] == \"Yes\"]\n",
    "hos_age_df.head()\n",
    "\n",
    "# Create a data frame grouped by Month and Pre-Existing Condition\n",
    "age_hos_month_df = hos_age_df.groupby([\"CDC Report Month\", \"Age Division\"])\n",
    "age_hos_avg = age_hos_month_df.count()\n",
    "age_hos_avg\n",
    "\n",
    "# Pivot table for readability and plotting purposes\n",
    "age_hos_avg_pivot = age_hos_avg.pivot_table('Hospitalized', index='CDC Report Month', columns='Age Division')\n",
    "age_hos_avg_pivot"
   ]
  },
  {
   "cell_type": "code",
   "execution_count": null,
   "metadata": {},
   "outputs": [],
   "source": [
    "## Create a line graph based on the Age Division (Hospitalization = Yes)\n",
    "hos_old_avg, = plt.plot(months, age_hos_avg_pivot['Older'], color=\"red\", label=\"50+ Years\")\n",
    "hos_young_avg, = plt.plot(months, age_hos_avg_pivot['Younger'], color=\"blue\", label=\"Less than 50 Years\")\n",
    "\n",
    "# Set the labels, axes, legend, and title\n",
    "plt.xticks(tick_locations, months, rotation=\"vertical\")\n",
    "plt.title(\"US Hospitalization Cases per Month by Age Division 2020\")\n",
    "plt.xlabel(\"Months\")\n",
    "plt.ylabel(\"Cases per Month\")\n",
    "plt.legend(handles=[hos_old_avg, hos_young_avg], loc=\"best\")\n",
    "\n",
    "plt.tight_layout()\n",
    "plt.show()\n",
    "plt.savefig(\"../Images/HospitalizationAgeMonth.png\")"
   ]
  },
  {
   "cell_type": "code",
   "execution_count": null,
   "metadata": {},
   "outputs": [],
   "source": [
    "# For Line Chart displaying Non-Hospitalizations by Age Division\n",
    "#Make Data Frame only including columns where Hospitalized is True\n",
    "ok_age_df = patient_age_df[patient_age_df['Hospitalized'] == \"No\"]\n",
    "ok_age_df.head()\n",
    "\n",
    "# Create a data frame grouped by Month and Pre-Existing Condition\n",
    "age_ok_month_df = ok_age_df.groupby([\"CDC Report Month\", \"Age Division\"])\n",
    "age_ok_avg = age_ok_month_df.count()\n",
    "age_ok_avg\n",
    "\n",
    "# Pivot table for readability and plotting purposes\n",
    "age_ok_avg_pivot = age_ok_avg.pivot_table('Hospitalized', index='CDC Report Month', columns='Age Division')\n",
    "age_ok_avg_pivot"
   ]
  },
  {
   "cell_type": "code",
   "execution_count": null,
   "metadata": {},
   "outputs": [],
   "source": [
    "## Create a line graph based on the Age Division (Hospitalization = Yes)\n",
    "ok_old_avg, = plt.plot(months, age_ok_avg_pivot['Older'], color=\"red\", label=\"50+ Years\")\n",
    "ok_young_avg, = plt.plot(months, age_ok_avg_pivot['Younger'], color=\"blue\", label=\"Less than 50 Years\")\n",
    "\n",
    "# Set the labels, axes, legend, and title\n",
    "plt.xticks(tick_locations, months, rotation=\"vertical\")\n",
    "plt.title(\"US Non-Hospitalization Cases per Month by Age Division 2020\")\n",
    "plt.xlabel(\"Months\")\n",
    "plt.ylabel(\"Cases per Month\")\n",
    "plt.legend(handles=[hos_old_avg, hos_young_avg], loc=\"best\")\n",
    "\n",
    "plt.tight_layout()\n",
    "plt.show()\n",
    "plt.savefig(\"../Images/NonHosAgeMonth.png\")"
   ]
  },
  {
   "cell_type": "code",
   "execution_count": null,
   "metadata": {},
   "outputs": [],
   "source": [
    "# Make empty column to divide age groups into two 'Divisions': Younger & Older\n",
    "# Iterate through rows of the data frame and append divisors into the new, empty column \n",
    "#resetCdcDf['Age Division'] = \"\"\n",
    "#resetCdcDf.head(10)\n",
    "\n",
    "\n",
    "## Trying to build for loop to fill new empty column with appended values\n",
    "## (Tried)Implement for loop to loop through rows of data frame and append 'Age Division' values\n",
    "\n",
    "# Set initial varaible that contains the default string you want to append divisor to the new column\n",
    "#patient_var = \"Older\"\n",
    "\n",
    "#for patient in resetCdcDf:\n",
    "#    if resetCdcDf['Age Group'] == '50 - 59 Years':\n",
    "#        resetCdcDf['Age Division'].append(patient_var)\n",
    "#    elif resetCdcDf['Age Group'] == '60 - 69 Years':\n",
    "#       resetCdcDf['Age Division'].append(patient_var)\n",
    "#    elif resetCdcDf['Age Group'] == '70 - 79 Years':\n",
    "#        resetCdcDf['Age Division'].append(patient_var)\n",
    "#    elif resetCdcDf['Age Group'] == '80+ Years':\n",
    "#        presetCdcDf['Age Division'].append(patient_var)  \n",
    "#    else:\n",
    "#        patient_var = \"Younger\"\n",
    "#        resetCdcDf['Age Division'].append(patient_var)\n",
    "\n",
    "\n",
    "\n",
    "# Build function that takes original reset/cleaned data frame and makes a copy\n",
    "# Using for loop and the index of the row, append correct Younger/Older divisor to that row    \n",
    "        \n",
    "\n",
    "    \n",
    "#for i in resetCdcDf.index:\n",
    "#    if (resetCdcDf.loc[i, 'Age Group'] == '50-59 Years'):\n",
    "#            resetCdcDf.at[i, 'Age Division'] = 'Older'\n",
    "#    elif (resetCdcDf.loc[i, 'Age Group'] == '60-69 Years'):\n",
    "#            resetCdcDf.at[i, 'Age Division'] = 'Older'\n",
    "#    elif (resetCdcDf.loc[i, 'Age Group'] == '70-79 Years'):\n",
    "#            resetCdcDf.at[i, 'Age Division'] = 'Older'\n",
    "#    elif (resetCdcDf.loc[i, 'Age Group'] == '80+ Years'):\n",
    "#            resetCdcDf[i, 'Age Division'] = 'Older'\n",
    "#    else:\n",
    "#            resetCdcDf.at[i, 'Age Division'] = 'Younger'\n",
    "\n",
    "\n",
    "#resetCdcDf.head(10)"
   ]
  },
  {
   "cell_type": "code",
   "execution_count": null,
   "metadata": {},
   "outputs": [],
   "source": [
    "## PRE-EXISTING CONDITION vs. HOSPITALIZATION"
   ]
  },
  {
   "cell_type": "code",
   "execution_count": null,
   "metadata": {},
   "outputs": [],
   "source": [
    "# Data Frame Specific to the Analysis of Pre-Exisiting Condition vs. Hospitalization Status\n",
    "patient_premed_df = resetCdcDf[[\"CDC Report Month\", \"Hospitalized\", \"Pre-Existing Condition\"]]\n",
    "patient_premed_df.head()"
   ]
  },
  {
   "cell_type": "code",
   "execution_count": null,
   "metadata": {},
   "outputs": [],
   "source": [
    "# Make Data Frame only including columns where Hospitalized is True\n",
    "hos_patient_premed_df = patient_premed_df[patient_premed_df['Hospitalized'] == \"Yes\"]\n",
    "hos_patient_premed_df.head()\n",
    "\n",
    "# Create a data frame grouped by Month and Pre-Existing Condition\n",
    "prehos_month_df = hos_patient_premed_df.groupby([\"CDC Report Month\", \"Pre-Existing Condition\"])\n",
    "prehos_month_df\n",
    "prehos_avg = prehos_month_df.count()\n",
    "prehos_avg\n",
    "\n",
    "# Pivot table for readability and plotting purposes\n",
    "prehos_avg_pivot = prehos_avg.pivot_table('Hospitalized', index='CDC Report Month', columns='Pre-Existing Condition')\n",
    "prehos_avg_pivot"
   ]
  },
  {
   "cell_type": "code",
   "execution_count": null,
   "metadata": {},
   "outputs": [],
   "source": [
    "## Create a line graph based on the Pre-Existing Medical Condition (Hospitalization = Yes)\n",
    "hosexis_avg, = plt.plot(months, prehos_avg_pivot['Yes'], color=\"red\", label=\"Existing\")\n",
    "hosnon_avg, = plt.plot(months, prehos_avg_pivot['No'], color=\"blue\", label=\"Non-Existing\")\n",
    "\n",
    "# Set the labels, axes, legend, and title\n",
    "plt.xticks(tick_locations, months, rotation=\"vertical\")\n",
    "plt.title(\"US Hospitalization per Month by Pre-Existing Medical Conditions 2020\")\n",
    "plt.xlabel(\"Months\")\n",
    "plt.ylabel(\"Cases per Month\")\n",
    "plt.legend(handles=[hosexis_avg, hosnon_avg], loc=\"best\")\n",
    "\n",
    "plt.tight_layout()\n",
    "plt.show()\n",
    "plt.savefig(\"../Images/HospitalizationsPreExisMonth.png\")"
   ]
  },
  {
   "cell_type": "code",
   "execution_count": null,
   "metadata": {},
   "outputs": [],
   "source": [
    "# Make Data Frame only including columns where Hospitalized is False\n",
    "ok_patient_premed_df = patient_premed_df[patient_premed_df['Hospitalized'] == \"No\"]\n",
    "ok_patient_premed_df.head()\n",
    "\n",
    "# Create a data frame grouped by Month and Pre-Existing Condition\n",
    "ok_month_df = ok_patient_premed_df.groupby([\"CDC Report Month\", \"Pre-Existing Condition\"])\n",
    "ok_avg = ok_month_df.count()\n",
    "ok_avg\n",
    "\n",
    "# Pivot table for readability and plotting purposes\n",
    "ok_avg_pivot = ok_avg.pivot_table('Hospitalized', index='CDC Report Month', columns='Pre-Existing Condition')\n",
    "ok_avg_pivot"
   ]
  },
  {
   "cell_type": "code",
   "execution_count": null,
   "metadata": {},
   "outputs": [],
   "source": [
    "## Create a line graph based on the Pre-Existing Medical Condition (For Non-Hospitalization)\n",
    "okexis_avg, = plt.plot(months, ok_avg_pivot['Yes'], color=\"red\", label=\"Existing\")\n",
    "oknon_avg, = plt.plot(months, ok_avg_pivot['No'], color=\"blue\", label=\"Non-Existing\")\n",
    "\n",
    "# Set the labels, axes, legend, and title\n",
    "plt.xticks(tick_locations, months, rotation=\"vertical\")\n",
    "plt.title(\"US Non-Hospitalization per Month by Pre-Existing Medical Conditions 2020\")\n",
    "plt.xlabel(\"Months\")\n",
    "plt.ylabel(\"Cases per Month\")\n",
    "plt.legend(handles=[okexis_avg, oknon_avg], loc=\"best\")\n",
    "\n",
    "plt.tight_layout()\n",
    "plt.show()\n",
    "plt.savefig(\"../Images/NonHosPreExisMonth.png\")"
   ]
  },
  {
   "cell_type": "code",
   "execution_count": null,
   "metadata": {},
   "outputs": [],
   "source": [
    "# Create a data frame grouped by Month and Pre-Existing Condition\n",
    "pre_month_df = resetCdcDf.groupby([\"CDC Report Month\", \"Pre-Existing Condition\"])\n",
    "pre_month_df.sum()\n",
    "pre_avg = pre_month_df.sum()\n",
    "pre_avg\n",
    "\n",
    "\n",
    "# Pivot table for readability and plotting purposes\n",
    "pre_avg_pivot = pre_avg.pivot_table('CDC Report Month (#)', index='CDC Report Month', columns='Pre-Existing Condition')\n",
    "pre_avg_pivot"
   ]
  },
  {
   "cell_type": "code",
   "execution_count": null,
   "metadata": {},
   "outputs": [],
   "source": [
    "## Create a line graph based on the Pre-Existing Medical Condition\n",
    "## This displays the two charts above sumperimposed on eachother\n",
    "exis_avg, = plt.plot(months, pre_avg_pivot['Yes'], color=\"red\", label=\"Existing\")\n",
    "non_avg, = plt.plot(months, pre_avg_pivot['No'], color=\"blue\", label=\"Non-Existing\")\n",
    "\n",
    "# Set the labels, axes, legend, and title\n",
    "plt.xticks(tick_locations, months, rotation=\"vertical\")\n",
    "plt.title(\"US Average Cases per Month by Pre-Existing Medical Condition Status 2020\")\n",
    "plt.xlabel(\"Months\")\n",
    "plt.ylabel(\"Cases per Month\")\n",
    "plt.legend(handles=[exis_avg, non_avg], loc=\"best\")\n",
    "\n",
    "plt.tight_layout()\n",
    "plt.show()\n",
    "plt.savefig(\"../Images/CasesPreExisMonth.png\")\n",
    "\n",
    "pre_avg_pivot\n",
    "pre_avg"
   ]
  }
 ],
 "metadata": {
  "kernelspec": {
   "display_name": "Python 3",
   "language": "python",
   "name": "python3"
  },
  "language_info": {
   "codemirror_mode": {
    "name": "ipython",
    "version": 3
   },
   "file_extension": ".py",
   "mimetype": "text/x-python",
   "name": "python",
   "nbconvert_exporter": "python",
   "pygments_lexer": "ipython3",
   "version": "3.8.3"
  }
 },
 "nbformat": 4,
 "nbformat_minor": 4
}
